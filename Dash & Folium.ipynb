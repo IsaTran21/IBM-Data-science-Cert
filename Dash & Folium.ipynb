{
 "cells": [
  {
   "cell_type": "markdown",
   "metadata": {},
   "source": [
    "# DASH & PLOTLY"
   ]
  },
  {
   "cell_type": "code",
   "execution_count": null,
   "metadata": {},
   "outputs": [
    {
     "name": "stdout",
     "output_type": "stream",
     "text": [
      "Dash is running on http://127.0.0.1:8050/\n",
      "\n",
      " * Serving Flask app '__main__' (lazy loading)\n",
      " * Environment: production\n",
      "\u001b[31m   WARNING: This is a development server. Do not use it in a production deployment.\u001b[0m\n",
      "\u001b[2m   Use a production WSGI server instead.\u001b[0m\n",
      " * Debug mode: off\n"
     ]
    },
    {
     "name": "stderr",
     "output_type": "stream",
     "text": [
      " * Running on http://127.0.0.1:8050/ (Press CTRL+C to quit)\n",
      "127.0.0.1 - - [14/Jul/2023 19:00:20] \"GET / HTTP/1.1\" 200 -\n",
      "127.0.0.1 - - [14/Jul/2023 19:00:21] \"GET /_dash-layout HTTP/1.1\" 200 -\n",
      "127.0.0.1 - - [14/Jul/2023 19:00:21] \"GET /_dash-dependencies HTTP/1.1\" 200 -\n",
      "127.0.0.1 - - [14/Jul/2023 19:00:21] \"GET /_dash-component-suites/dash/dcc/async-graph.js HTTP/1.1\" 200 -\n",
      "127.0.0.1 - - [14/Jul/2023 19:00:21] \"GET /_dash-component-suites/dash/dcc/async-dropdown.js HTTP/1.1\" 200 -\n",
      "127.0.0.1 - - [14/Jul/2023 19:00:21] \"GET /_dash-component-suites/dash/dcc/async-slider.js HTTP/1.1\" 200 -\n",
      "127.0.0.1 - - [14/Jul/2023 19:00:21] \"GET /_dash-component-suites/dash/dcc/async-plotlyjs.js HTTP/1.1\" 200 -\n",
      "127.0.0.1 - - [14/Jul/2023 19:00:26] \"POST /_dash-update-component HTTP/1.1\" 200 -\n",
      "C:\\Users\\THUY TRAN\\AppData\\Local\\Temp\\ipykernel_3372\\2169497287.py:60: SettingWithCopyWarning:\n",
      "\n",
      "\n",
      "A value is trying to be set on a copy of a slice from a DataFrame.\n",
      "Try using .loc[row_indexer,col_indexer] = value instead\n",
      "\n",
      "See the caveats in the documentation: https://pandas.pydata.org/pandas-docs/stable/user_guide/indexing.html#returning-a-view-versus-a-copy\n",
      "\n",
      "127.0.0.1 - - [14/Jul/2023 19:00:26] \"POST /_dash-update-component HTTP/1.1\" 200 -\n",
      "127.0.0.1 - - [14/Jul/2023 19:00:30] \"POST /_dash-update-component HTTP/1.1\" 200 -\n",
      "127.0.0.1 - - [14/Jul/2023 19:00:33] \"POST /_dash-update-component HTTP/1.1\" 200 -\n"
     ]
    }
   ],
   "source": [
    "# Import required libraries\n",
    "import pandas as pd\n",
    "import plotly.graph_objects as go\n",
    "import dash\n",
    "import dash_html_components as html\n",
    "import dash_core_components as dcc\n",
    "from dash.dependencies import Input, Output\n",
    "import plotly.express as px\n",
    "file = r\"spacex_launch_dash.csv\"\n",
    "df = pd.read_csv(file)\n",
    "min_value = df[\"Payload Mass (kg)\"].min()\n",
    "max_value = df[\"Payload Mass (kg)\"].max()\n",
    "booster_version = set(pd.Series(df[\"Booster Version\"].unique()).map(lambda x: x.split()[1]))\n",
    "app = dash.Dash(__name__)\n",
    "app.layout = html.Div(children=[\n",
    "    html.H1(children='SpaceX'),\n",
    "    #Task 1: add dropdown\n",
    "    dcc.Dropdown(id='dropdown_id',\n",
    "                options=[\n",
    "                    {'label': 'CCAFS SLC-40', 'value': 'CCAFS SLC-40'},\n",
    "                    {'label': 'CCAFS LC-40', 'value': 'CCAFS LC-40'},\n",
    "                    {'label': 'VAFB SLC-4E', 'value': 'VAFB SLC-4E'},\n",
    "                    {'label': 'KSC LC-39A', 'value': 'KSC LC-39A'},\n",
    "                    {'label': 'ALL', 'value': 'ALL'},\n",
    "                ],\n",
    "                value='ALL',\n",
    "                placeholder=\"Selec a launch site here\",\n",
    "                searchable=True\n",
    "                ),\n",
    "    #Task 2: pie plot\n",
    "                html.Div(dcc.Graph(id='pie-plot', style={'width': 800, 'height': 800})),\n",
    "    #TASK 3: Add a Range Slider to Select Payload\n",
    "    dcc.RangeSlider(id='payload-slider',\n",
    "                min=0, max=10000, step=1000,\n",
    "                value=[min_value, max_value]),\n",
    "    #TASK 4: Add a callback function to render the success-payload-scatter-chart scatter plot\n",
    "    html.Div(dcc.Graph(id='cat-plot', style={'width': 800, 'height': 800})),\n",
    "])\n",
    "@app.callback(\n",
    "    [Output(component_id='pie-plot', component_property='figure'),\n",
    "     Output(component_id='cat-plot', component_property='figure')],\n",
    "    [Input(component_id='dropdown_id', component_property='value'),\n",
    "    Input(component_id=\"payload-slider\", component_property=\"value\")])\n",
    "def get_graph(selected_site,payload):\n",
    "    #df_filter =  df[df[\"Launch Site\"]==selected_site]\n",
    "    #The pie_chart\n",
    "    if selected_site == 'ALL':\n",
    "        filtered_df = pd.DataFrame(df.groupby('Launch Site').count()).reset_index()[[\"Launch Site\",\"class\"]]\n",
    "        fig_pie = px.pie(filtered_df, values='class', names='Launch Site', hole=.3)\n",
    "        #The pie plot\n",
    "        df_cat = df[(df[\"Payload Mass (kg)\"] >= payload[0]) & (df[\"Payload Mass (kg)\"] <= payload[1])]\n",
    "        df_cat[\"Booster\"] = df[\"Booster Version\"].map(lambda x: x.split()[1])\n",
    "        fig_cat = px.scatter(df_cat, x=\"Payload Mass (kg)\", y=\"class\",color=\"Booster\")\n",
    "    else:\n",
    "        filtered_df = df[df[\"Launch Site\"] == selected_site]\n",
    "        filtered_df = pd.DataFrame(filtered_df.groupby('class')['Launch Site'].count()).reset_index()\n",
    "        fig_pie = px.pie(filtered_df, values='Launch Site', names='class', hole=.3)\n",
    "        #The scatter plot\n",
    "        df_cat = df[df[\"Launch Site\"]==selected_site]\n",
    "        df_cat[\"Booster\"] = df[\"Booster Version\"].map(lambda x: x.split()[1])\n",
    "        df_cat = df_cat[(df_cat[\"Payload Mass (kg)\"] >= payload[0]) & (df_cat[\"Payload Mass (kg)\"] <= payload[1])]\n",
    "        fig_cat = px.scatter(df_cat, x=\"Payload Mass (kg)\", y=\"class\",color=\"Booster\")\n",
    "        \n",
    "        \n",
    "    return fig_pie,fig_cat\n",
    "if __name__ == '__main__':\n",
    "    app.run_server()"
   ]
  },
  {
   "cell_type": "markdown",
   "metadata": {},
   "source": [
    "# Finding Insights Visually\n",
    "<h2>Now with the dashboard completed, you should be able to use it to analyze SpaceX launch data, and answer the following questions:</h2>\n",
    "<ol>\n",
    "    <li>Which site has the largest successful launches? <span style=\"color: red;\">=> CCAFS LC-40</span></li>\n",
    "    <li>Which site has the highest launch success rate?\n",
    "    <span style=\"color: red;\">=> CCAFS SLC-40</span></li>\n",
    "    <li>Which payload range(s) has the highest launch success rate?\n",
    "    <span style=\"color: red;\">=> 3000-4000</span></li>\n",
    "    <li>Which payload range(s) has the lowest launch success rate?=> 0-2000</li>\n",
    "    <li>Which F9 Booster version (v1.0, v1.1, FT, B4, B5, etc.) has the highest\n",
    "    launch success rate?<span style=\"color: red;\">=> FT</span></li>\n",
    "</ol>"
   ]
  }
 ],
 "metadata": {
  "kernelspec": {
   "display_name": "Python 3 (ipykernel)",
   "language": "python",
   "name": "python3"
  },
  "language_info": {
   "codemirror_mode": {
    "name": "ipython",
    "version": 3
   },
   "file_extension": ".py",
   "mimetype": "text/x-python",
   "name": "python",
   "nbconvert_exporter": "python",
   "pygments_lexer": "ipython3",
   "version": "3.9.1"
  }
 },
 "nbformat": 4,
 "nbformat_minor": 2
}
